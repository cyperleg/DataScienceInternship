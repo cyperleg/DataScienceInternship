{
 "cells": [
  {
   "cell_type": "code",
   "id": "initial_id",
   "metadata": {
    "ExecuteTime": {
     "end_time": "2024-10-12T10:29:44.770526Z",
     "start_time": "2024-10-12T10:29:44.757237Z"
    }
   },
   "source": [
    "import pandas as pd\n",
    "import ast"
   ],
   "outputs": [],
   "execution_count": 20
  },
  {
   "cell_type": "code",
   "id": "35aead0da5fe224",
   "metadata": {
    "ExecuteTime": {
     "end_time": "2024-10-12T10:27:48.417347Z",
     "start_time": "2024-10-12T10:27:48.407950Z"
    }
   },
   "source": "df = pd.read_csv(\"dataset/mountain_dataset_with_markup.csv\")",
   "outputs": [],
   "execution_count": 18
  },
  {
   "metadata": {},
   "cell_type": "markdown",
   "source": "## Convert markers from str to list ",
   "id": "dab385fa9211948d"
  },
  {
   "metadata": {
    "ExecuteTime": {
     "end_time": "2024-10-12T10:29:45.611609Z",
     "start_time": "2024-10-12T10:29:45.590238Z"
    }
   },
   "cell_type": "code",
   "source": "df['marker'] = df['marker'].apply(ast.literal_eval)",
   "id": "ac66eccd3297645b",
   "outputs": [],
   "execution_count": 21
  },
  {
   "metadata": {},
   "cell_type": "markdown",
   "source": "## Redefine table to contain index of word, not the index of letter ",
   "id": "51ca35f9c5b2223"
  },
  {
   "metadata": {},
   "cell_type": "markdown",
   "source": "### Apply function",
   "id": "b122d428428434b9"
  },
  {
   "metadata": {
    "ExecuteTime": {
     "end_time": "2024-10-12T10:35:10.784517Z",
     "start_time": "2024-10-12T10:35:10.769178Z"
    }
   },
   "cell_type": "code",
   "source": [
    "def markup_generator(markup: tuple):\n",
    "    for value in markup:\n",
    "        yield value[0]\n",
    "\n",
    "def sentence_markup(row):\n",
    "    text = row['text']\n",
    "    markup = row['marker']\n",
    "    words = text.split()\n",
    "    res = [0] * len(words)\n",
    "    if markup:\n",
    "        markups = markup_generator(markup)\n",
    "        temp = next(markups)\n",
    "        \n",
    "        for i, d in enumerate(words):\n",
    "            start_index = text.find(d)\n",
    "            if start_index == temp:\n",
    "                res[i] = 1\n",
    "                try:\n",
    "                    temp = next(markups)\n",
    "                except:\n",
    "                    break\n",
    "    return res\n"
   ],
   "id": "99e008c4-c177-4d22-8a7d-d9f709156bf8",
   "outputs": [],
   "execution_count": 30
  },
  {
   "metadata": {},
   "cell_type": "markdown",
   "source": "### Test",
   "id": "2d674d061a74c3"
  },
  {
   "metadata": {
    "ExecuteTime": {
     "end_time": "2024-10-12T10:35:13.030909Z",
     "start_time": "2024-10-12T10:35:13.025684Z"
    }
   },
   "cell_type": "code",
   "source": "sentence_markup(df.iloc[4])",
   "id": "5f0622d09e7ab040",
   "outputs": [
    {
     "data": {
      "text/plain": [
       "[0, 0, 1, 0, 0, 0, 0, 0, 0, 0, 0]"
      ]
     },
     "execution_count": 31,
     "metadata": {},
     "output_type": "execute_result"
    }
   ],
   "execution_count": 31
  },
  {
   "metadata": {},
   "cell_type": "markdown",
   "source": "### Applying",
   "id": "22a1a68f469b3f41"
  },
  {
   "metadata": {},
   "cell_type": "code",
   "source": "df['markup'] = df.apply(sentence_markup, axis=1)",
   "id": "d981fe3f86d61a20",
   "outputs": [],
   "execution_count": null
  },
  {
   "metadata": {},
   "cell_type": "markdown",
   "source": "### Dropping unnecessary column",
   "id": "eea309dc8a59893d"
  },
  {
   "metadata": {
    "ExecuteTime": {
     "end_time": "2024-10-12T10:40:14.800584Z",
     "start_time": "2024-10-12T10:40:14.785557Z"
    }
   },
   "cell_type": "code",
   "source": "df = df.drop(columns='marker')",
   "id": "51de060ea0fe0417",
   "outputs": [],
   "execution_count": 47
  },
  {
   "metadata": {},
   "cell_type": "markdown",
   "source": "### Export with data type saving",
   "id": "637f324df84af5cb"
  },
  {
   "metadata": {
    "ExecuteTime": {
     "end_time": "2024-10-12T10:43:37.260938Z",
     "start_time": "2024-10-12T10:43:37.243497Z"
    }
   },
   "cell_type": "code",
   "source": "df.to_pickle('dataset/ready_dataset.pkl')",
   "id": "cb82522725147b8b",
   "outputs": [],
   "execution_count": 48
  }
 ],
 "metadata": {
  "kernelspec": {
   "display_name": "Python 3 (ipykernel)",
   "language": "python",
   "name": "python3"
  },
  "language_info": {
   "codemirror_mode": {
    "name": "ipython",
    "version": 3
   },
   "file_extension": ".py",
   "mimetype": "text/x-python",
   "name": "python",
   "nbconvert_exporter": "python",
   "pygments_lexer": "ipython3",
   "version": "3.11.9"
  }
 },
 "nbformat": 4,
 "nbformat_minor": 5
}
