{
 "cells": [
  {
   "cell_type": "code",
   "id": "initial_id",
   "metadata": {
    "ExecuteTime": {
     "end_time": "2024-10-13T07:44:43.265475Z",
     "start_time": "2024-10-13T07:44:42.754513Z"
    }
   },
   "source": [
    "import pandas as pd\n",
    "import ast"
   ],
   "outputs": [],
   "execution_count": 1
  },
  {
   "cell_type": "code",
   "id": "35aead0da5fe224",
   "metadata": {
    "ExecuteTime": {
     "end_time": "2024-10-13T07:44:44.718279Z",
     "start_time": "2024-10-13T07:44:44.704648Z"
    }
   },
   "source": "df = pd.read_csv(\"dataset/mountain_dataset_with_markup.csv\")",
   "outputs": [],
   "execution_count": 2
  },
  {
   "metadata": {},
   "cell_type": "markdown",
   "source": "## Convert markers from str to list ",
   "id": "dab385fa9211948d"
  },
  {
   "metadata": {
    "ExecuteTime": {
     "end_time": "2024-10-13T07:44:45.762070Z",
     "start_time": "2024-10-13T07:44:45.744511Z"
    }
   },
   "cell_type": "code",
   "source": "df['marker'] = df['marker'].apply(ast.literal_eval)",
   "id": "ac66eccd3297645b",
   "outputs": [],
   "execution_count": 3
  },
  {
   "metadata": {},
   "cell_type": "markdown",
   "source": "## Redefine table to contain index of word, not the index of letter ",
   "id": "51ca35f9c5b2223"
  },
  {
   "metadata": {},
   "cell_type": "markdown",
   "source": "#### Artifacts in dataset with name Patagonian Andes (cause this dataset create GPT)",
   "id": "5f4a8298089888fb"
  },
  {
   "metadata": {},
   "cell_type": "code",
   "source": "df[df['marker'].apply(len) > 1]",
   "id": "70b700bec2385de8",
   "outputs": [],
   "execution_count": null
  },
  {
   "metadata": {},
   "cell_type": "markdown",
   "source": "### Balance dataset",
   "id": "bf6862aa7465cda8"
  },
  {
   "metadata": {
    "ExecuteTime": {
     "end_time": "2024-10-13T07:51:07.187601Z",
     "start_time": "2024-10-13T07:51:07.183359Z"
    }
   },
   "cell_type": "code",
   "source": "df_with_markup = df[df['marker'].apply(len) > 0]",
   "id": "422ad27bf085584",
   "outputs": [],
   "execution_count": 17
  },
  {
   "metadata": {
    "ExecuteTime": {
     "end_time": "2024-10-13T07:52:32.102938Z",
     "start_time": "2024-10-13T07:52:32.099103Z"
    }
   },
   "cell_type": "code",
   "source": "df_without_markup = df[df['marker'].apply(len) < 1]",
   "id": "1fd4c405fd7fc0",
   "outputs": [],
   "execution_count": 19
  },
  {
   "metadata": {
    "ExecuteTime": {
     "end_time": "2024-10-13T07:55:09.425979Z",
     "start_time": "2024-10-13T07:55:09.422608Z"
    }
   },
   "cell_type": "code",
   "source": "df_combined = pd.concat([df_with_markup, df_without_markup.iloc[:len(df_with_markup)]])",
   "id": "2257ec7a65ccc6e5",
   "outputs": [],
   "execution_count": 23
  },
  {
   "metadata": {
    "ExecuteTime": {
     "end_time": "2024-10-13T07:57:14.088147Z",
     "start_time": "2024-10-13T07:57:14.083206Z"
    }
   },
   "cell_type": "code",
   "source": "df_combined = df_combined.sample(frac=1, random_state=42).reset_index(drop=True)",
   "id": "264e525514d2450b",
   "outputs": [],
   "execution_count": 26
  },
  {
   "metadata": {
    "ExecuteTime": {
     "end_time": "2024-10-13T07:57:53.877411Z",
     "start_time": "2024-10-13T07:57:53.873971Z"
    }
   },
   "cell_type": "code",
   "source": "df = df_combined",
   "id": "9bd6a15242b6aca7",
   "outputs": [],
   "execution_count": 28
  },
  {
   "metadata": {},
   "cell_type": "markdown",
   "source": "### Apply function",
   "id": "b122d428428434b9"
  },
  {
   "metadata": {
    "ExecuteTime": {
     "end_time": "2024-10-13T07:57:56.250597Z",
     "start_time": "2024-10-13T07:57:56.244231Z"
    }
   },
   "cell_type": "code",
   "source": [
    "def markup_generator(markup: tuple):\n",
    "    for value in markup:\n",
    "        yield value\n",
    "\n",
    "def sentence_markup(row):\n",
    "    text = row['text']\n",
    "    markup = row['marker']\n",
    "    words = text.split()\n",
    "    # base res\n",
    "    res = ['O'] * len(words)\n",
    "    \n",
    "    if markup:\n",
    "        markups = markup_generator(markup)\n",
    "        temp = next(markups)\n",
    "        stop_index = 0\n",
    "        \n",
    "        for i, d in enumerate(words):\n",
    "            start_index = text.find(d, stop_index)\n",
    "            stop_index += len(d) + 1\n",
    "            # print(start_index, d, stop_index)\n",
    "            \n",
    "            # check to pick next item\n",
    "            if start_index > temp[1]:\n",
    "                try:\n",
    "                    temp = next(markups)\n",
    "                except:\n",
    "                    break\n",
    "            \n",
    "            # change value\n",
    "            if temp[0] <= start_index < temp[1]:\n",
    "                if i == 0:\n",
    "                    res[i] = \"B-LOC\"\n",
    "                else:\n",
    "                    if res[i - 1] == 'O':\n",
    "                        res[i] = \"B-LOC\"\n",
    "                    else:\n",
    "                        res[i] = \"I-LOC\"\n",
    "    return res\n"
   ],
   "id": "99e008c4-c177-4d22-8a7d-d9f709156bf8",
   "outputs": [],
   "execution_count": 29
  },
  {
   "metadata": {},
   "cell_type": "markdown",
   "source": "### Test",
   "id": "2d674d061a74c3"
  },
  {
   "metadata": {
    "ExecuteTime": {
     "end_time": "2024-10-13T07:57:58.443217Z",
     "start_time": "2024-10-13T07:57:58.438392Z"
    }
   },
   "cell_type": "code",
   "source": "sentence_markup(df.iloc[30])",
   "id": "5f0622d09e7ab040",
   "outputs": [
    {
     "data": {
      "text/plain": [
       "['O',\n",
       " 'O',\n",
       " 'O',\n",
       " 'O',\n",
       " 'O',\n",
       " 'O',\n",
       " 'O',\n",
       " 'O',\n",
       " 'O',\n",
       " 'O',\n",
       " 'O',\n",
       " 'O',\n",
       " 'O',\n",
       " 'O',\n",
       " 'O',\n",
       " 'O',\n",
       " 'O',\n",
       " 'O',\n",
       " 'O',\n",
       " 'O']"
      ]
     },
     "execution_count": 30,
     "metadata": {},
     "output_type": "execute_result"
    }
   ],
   "execution_count": 30
  },
  {
   "metadata": {},
   "cell_type": "markdown",
   "source": "### Applying",
   "id": "22a1a68f469b3f41"
  },
  {
   "metadata": {
    "ExecuteTime": {
     "end_time": "2024-10-13T07:58:15.164867Z",
     "start_time": "2024-10-13T07:58:15.155872Z"
    }
   },
   "cell_type": "code",
   "source": "df['markup'] = df.apply(sentence_markup, axis=1)",
   "id": "d981fe3f86d61a20",
   "outputs": [],
   "execution_count": 31
  },
  {
   "metadata": {
    "ExecuteTime": {
     "end_time": "2024-10-13T07:58:17.103020Z",
     "start_time": "2024-10-13T07:58:17.092058Z"
    }
   },
   "cell_type": "code",
   "source": "df",
   "id": "87bc60bb053cd3f6",
   "outputs": [
    {
     "data": {
      "text/plain": [
       "                                                  text                marker  \\\n",
       "0       A visit to a riverside park with scenic views.                    []   \n",
       "1    The Brooks Range is the northernmost mountain ...             [(4, 16)]   \n",
       "2          I enjoyed a relaxing vacation by the beach.                    []   \n",
       "3    Red north money star prevent box truth. Agains...                    []   \n",
       "4    I explored the Patagonian Andes in Argentina, ...  [(26, 31), (15, 31)]   \n",
       "..                                                 ...                   ...   \n",
       "447  Feel the spiritual connection to the sacred mo...            [(61, 70)]   \n",
       "448  Sell card son toward fund. Wall side place pro...                    []   \n",
       "449  Particularly tell not section southern suffer....                    []   \n",
       "450     Camping under the stars is a peaceful retreat.                    []   \n",
       "451  Experiencing the unique biodiversity and drama...            [(68, 72)]   \n",
       "\n",
       "                                                markup  \n",
       "0                          [O, O, O, O, O, O, O, O, O]  \n",
       "1            [O, B-LOC, I-LOC, O, O, O, O, O, O, O, O]  \n",
       "2                             [O, O, O, O, O, O, O, O]  \n",
       "3    [O, O, O, O, O, O, O, O, O, O, O, O, O, O, O, ...  \n",
       "4             [O, O, O, O, B-LOC, O, O, O, O, O, O, O]  \n",
       "..                                                 ...  \n",
       "447  [O, O, O, O, O, O, O, O, O, O, B-LOC, O, O, O,...  \n",
       "448  [O, O, O, O, O, O, O, O, O, O, O, O, O, O, O, ...  \n",
       "449            [O, O, O, O, O, O, O, O, O, O, O, O, O]  \n",
       "450                           [O, O, O, O, O, O, O, O]  \n",
       "451           [O, O, O, O, O, O, O, O, O, B-LOC, O, O]  \n",
       "\n",
       "[452 rows x 3 columns]"
      ],
      "text/html": [
       "<div>\n",
       "<style scoped>\n",
       "    .dataframe tbody tr th:only-of-type {\n",
       "        vertical-align: middle;\n",
       "    }\n",
       "\n",
       "    .dataframe tbody tr th {\n",
       "        vertical-align: top;\n",
       "    }\n",
       "\n",
       "    .dataframe thead th {\n",
       "        text-align: right;\n",
       "    }\n",
       "</style>\n",
       "<table border=\"1\" class=\"dataframe\">\n",
       "  <thead>\n",
       "    <tr style=\"text-align: right;\">\n",
       "      <th></th>\n",
       "      <th>text</th>\n",
       "      <th>marker</th>\n",
       "      <th>markup</th>\n",
       "    </tr>\n",
       "  </thead>\n",
       "  <tbody>\n",
       "    <tr>\n",
       "      <th>0</th>\n",
       "      <td>A visit to a riverside park with scenic views.</td>\n",
       "      <td>[]</td>\n",
       "      <td>[O, O, O, O, O, O, O, O, O]</td>\n",
       "    </tr>\n",
       "    <tr>\n",
       "      <th>1</th>\n",
       "      <td>The Brooks Range is the northernmost mountain ...</td>\n",
       "      <td>[(4, 16)]</td>\n",
       "      <td>[O, B-LOC, I-LOC, O, O, O, O, O, O, O, O]</td>\n",
       "    </tr>\n",
       "    <tr>\n",
       "      <th>2</th>\n",
       "      <td>I enjoyed a relaxing vacation by the beach.</td>\n",
       "      <td>[]</td>\n",
       "      <td>[O, O, O, O, O, O, O, O]</td>\n",
       "    </tr>\n",
       "    <tr>\n",
       "      <th>3</th>\n",
       "      <td>Red north money star prevent box truth. Agains...</td>\n",
       "      <td>[]</td>\n",
       "      <td>[O, O, O, O, O, O, O, O, O, O, O, O, O, O, O, ...</td>\n",
       "    </tr>\n",
       "    <tr>\n",
       "      <th>4</th>\n",
       "      <td>I explored the Patagonian Andes in Argentina, ...</td>\n",
       "      <td>[(26, 31), (15, 31)]</td>\n",
       "      <td>[O, O, O, O, B-LOC, O, O, O, O, O, O, O]</td>\n",
       "    </tr>\n",
       "    <tr>\n",
       "      <th>...</th>\n",
       "      <td>...</td>\n",
       "      <td>...</td>\n",
       "      <td>...</td>\n",
       "    </tr>\n",
       "    <tr>\n",
       "      <th>447</th>\n",
       "      <td>Feel the spiritual connection to the sacred mo...</td>\n",
       "      <td>[(61, 70)]</td>\n",
       "      <td>[O, O, O, O, O, O, O, O, O, O, B-LOC, O, O, O,...</td>\n",
       "    </tr>\n",
       "    <tr>\n",
       "      <th>448</th>\n",
       "      <td>Sell card son toward fund. Wall side place pro...</td>\n",
       "      <td>[]</td>\n",
       "      <td>[O, O, O, O, O, O, O, O, O, O, O, O, O, O, O, ...</td>\n",
       "    </tr>\n",
       "    <tr>\n",
       "      <th>449</th>\n",
       "      <td>Particularly tell not section southern suffer....</td>\n",
       "      <td>[]</td>\n",
       "      <td>[O, O, O, O, O, O, O, O, O, O, O, O, O]</td>\n",
       "    </tr>\n",
       "    <tr>\n",
       "      <th>450</th>\n",
       "      <td>Camping under the stars is a peaceful retreat.</td>\n",
       "      <td>[]</td>\n",
       "      <td>[O, O, O, O, O, O, O, O]</td>\n",
       "    </tr>\n",
       "    <tr>\n",
       "      <th>451</th>\n",
       "      <td>Experiencing the unique biodiversity and drama...</td>\n",
       "      <td>[(68, 72)]</td>\n",
       "      <td>[O, O, O, O, O, O, O, O, O, B-LOC, O, O]</td>\n",
       "    </tr>\n",
       "  </tbody>\n",
       "</table>\n",
       "<p>452 rows × 3 columns</p>\n",
       "</div>"
      ]
     },
     "execution_count": 32,
     "metadata": {},
     "output_type": "execute_result"
    }
   ],
   "execution_count": 32
  },
  {
   "metadata": {},
   "cell_type": "markdown",
   "source": "### Dropping unnecessary column",
   "id": "eea309dc8a59893d"
  },
  {
   "metadata": {
    "ExecuteTime": {
     "end_time": "2024-10-13T07:58:31.381297Z",
     "start_time": "2024-10-13T07:58:31.377348Z"
    }
   },
   "cell_type": "code",
   "source": "df = df.drop(columns='marker')",
   "id": "51de060ea0fe0417",
   "outputs": [],
   "execution_count": 33
  },
  {
   "metadata": {
    "ExecuteTime": {
     "end_time": "2024-10-13T07:58:33.359532Z",
     "start_time": "2024-10-13T07:58:33.351260Z"
    }
   },
   "cell_type": "code",
   "source": "df",
   "id": "548132fde21c424b",
   "outputs": [
    {
     "data": {
      "text/plain": [
       "                                                  text  \\\n",
       "0       A visit to a riverside park with scenic views.   \n",
       "1    The Brooks Range is the northernmost mountain ...   \n",
       "2          I enjoyed a relaxing vacation by the beach.   \n",
       "3    Red north money star prevent box truth. Agains...   \n",
       "4    I explored the Patagonian Andes in Argentina, ...   \n",
       "..                                                 ...   \n",
       "447  Feel the spiritual connection to the sacred mo...   \n",
       "448  Sell card son toward fund. Wall side place pro...   \n",
       "449  Particularly tell not section southern suffer....   \n",
       "450     Camping under the stars is a peaceful retreat.   \n",
       "451  Experiencing the unique biodiversity and drama...   \n",
       "\n",
       "                                                markup  \n",
       "0                          [O, O, O, O, O, O, O, O, O]  \n",
       "1            [O, B-LOC, I-LOC, O, O, O, O, O, O, O, O]  \n",
       "2                             [O, O, O, O, O, O, O, O]  \n",
       "3    [O, O, O, O, O, O, O, O, O, O, O, O, O, O, O, ...  \n",
       "4             [O, O, O, O, B-LOC, O, O, O, O, O, O, O]  \n",
       "..                                                 ...  \n",
       "447  [O, O, O, O, O, O, O, O, O, O, B-LOC, O, O, O,...  \n",
       "448  [O, O, O, O, O, O, O, O, O, O, O, O, O, O, O, ...  \n",
       "449            [O, O, O, O, O, O, O, O, O, O, O, O, O]  \n",
       "450                           [O, O, O, O, O, O, O, O]  \n",
       "451           [O, O, O, O, O, O, O, O, O, B-LOC, O, O]  \n",
       "\n",
       "[452 rows x 2 columns]"
      ],
      "text/html": [
       "<div>\n",
       "<style scoped>\n",
       "    .dataframe tbody tr th:only-of-type {\n",
       "        vertical-align: middle;\n",
       "    }\n",
       "\n",
       "    .dataframe tbody tr th {\n",
       "        vertical-align: top;\n",
       "    }\n",
       "\n",
       "    .dataframe thead th {\n",
       "        text-align: right;\n",
       "    }\n",
       "</style>\n",
       "<table border=\"1\" class=\"dataframe\">\n",
       "  <thead>\n",
       "    <tr style=\"text-align: right;\">\n",
       "      <th></th>\n",
       "      <th>text</th>\n",
       "      <th>markup</th>\n",
       "    </tr>\n",
       "  </thead>\n",
       "  <tbody>\n",
       "    <tr>\n",
       "      <th>0</th>\n",
       "      <td>A visit to a riverside park with scenic views.</td>\n",
       "      <td>[O, O, O, O, O, O, O, O, O]</td>\n",
       "    </tr>\n",
       "    <tr>\n",
       "      <th>1</th>\n",
       "      <td>The Brooks Range is the northernmost mountain ...</td>\n",
       "      <td>[O, B-LOC, I-LOC, O, O, O, O, O, O, O, O]</td>\n",
       "    </tr>\n",
       "    <tr>\n",
       "      <th>2</th>\n",
       "      <td>I enjoyed a relaxing vacation by the beach.</td>\n",
       "      <td>[O, O, O, O, O, O, O, O]</td>\n",
       "    </tr>\n",
       "    <tr>\n",
       "      <th>3</th>\n",
       "      <td>Red north money star prevent box truth. Agains...</td>\n",
       "      <td>[O, O, O, O, O, O, O, O, O, O, O, O, O, O, O, ...</td>\n",
       "    </tr>\n",
       "    <tr>\n",
       "      <th>4</th>\n",
       "      <td>I explored the Patagonian Andes in Argentina, ...</td>\n",
       "      <td>[O, O, O, O, B-LOC, O, O, O, O, O, O, O]</td>\n",
       "    </tr>\n",
       "    <tr>\n",
       "      <th>...</th>\n",
       "      <td>...</td>\n",
       "      <td>...</td>\n",
       "    </tr>\n",
       "    <tr>\n",
       "      <th>447</th>\n",
       "      <td>Feel the spiritual connection to the sacred mo...</td>\n",
       "      <td>[O, O, O, O, O, O, O, O, O, O, B-LOC, O, O, O,...</td>\n",
       "    </tr>\n",
       "    <tr>\n",
       "      <th>448</th>\n",
       "      <td>Sell card son toward fund. Wall side place pro...</td>\n",
       "      <td>[O, O, O, O, O, O, O, O, O, O, O, O, O, O, O, ...</td>\n",
       "    </tr>\n",
       "    <tr>\n",
       "      <th>449</th>\n",
       "      <td>Particularly tell not section southern suffer....</td>\n",
       "      <td>[O, O, O, O, O, O, O, O, O, O, O, O, O]</td>\n",
       "    </tr>\n",
       "    <tr>\n",
       "      <th>450</th>\n",
       "      <td>Camping under the stars is a peaceful retreat.</td>\n",
       "      <td>[O, O, O, O, O, O, O, O]</td>\n",
       "    </tr>\n",
       "    <tr>\n",
       "      <th>451</th>\n",
       "      <td>Experiencing the unique biodiversity and drama...</td>\n",
       "      <td>[O, O, O, O, O, O, O, O, O, B-LOC, O, O]</td>\n",
       "    </tr>\n",
       "  </tbody>\n",
       "</table>\n",
       "<p>452 rows × 2 columns</p>\n",
       "</div>"
      ]
     },
     "execution_count": 34,
     "metadata": {},
     "output_type": "execute_result"
    }
   ],
   "execution_count": 34
  },
  {
   "metadata": {},
   "cell_type": "markdown",
   "source": "### Export with data type saving",
   "id": "637f324df84af5cb"
  },
  {
   "metadata": {
    "ExecuteTime": {
     "end_time": "2024-10-13T07:58:36.208076Z",
     "start_time": "2024-10-13T07:58:36.204470Z"
    }
   },
   "cell_type": "code",
   "source": "df.to_pickle('dataset/ready_dataset.pkl')",
   "id": "cb82522725147b8b",
   "outputs": [],
   "execution_count": 35
  },
  {
   "metadata": {
    "ExecuteTime": {
     "end_time": "2024-10-13T07:58:42.585527Z",
     "start_time": "2024-10-13T07:58:42.578251Z"
    }
   },
   "cell_type": "code",
   "source": "df[df['text'].apply(len) == 177]",
   "id": "22508eb4416c8af3",
   "outputs": [
    {
     "data": {
      "text/plain": [
       "                                                  text  \\\n",
       "333  Immerse yourself in the diverse ecosystems of ...   \n",
       "\n",
       "                                                markup  \n",
       "333  [O, O, O, O, O, O, O, O, B-LOC, O, O, O, O, O,...  "
      ],
      "text/html": [
       "<div>\n",
       "<style scoped>\n",
       "    .dataframe tbody tr th:only-of-type {\n",
       "        vertical-align: middle;\n",
       "    }\n",
       "\n",
       "    .dataframe tbody tr th {\n",
       "        vertical-align: top;\n",
       "    }\n",
       "\n",
       "    .dataframe thead th {\n",
       "        text-align: right;\n",
       "    }\n",
       "</style>\n",
       "<table border=\"1\" class=\"dataframe\">\n",
       "  <thead>\n",
       "    <tr style=\"text-align: right;\">\n",
       "      <th></th>\n",
       "      <th>text</th>\n",
       "      <th>markup</th>\n",
       "    </tr>\n",
       "  </thead>\n",
       "  <tbody>\n",
       "    <tr>\n",
       "      <th>333</th>\n",
       "      <td>Immerse yourself in the diverse ecosystems of ...</td>\n",
       "      <td>[O, O, O, O, O, O, O, O, B-LOC, O, O, O, O, O,...</td>\n",
       "    </tr>\n",
       "  </tbody>\n",
       "</table>\n",
       "</div>"
      ]
     },
     "execution_count": 36,
     "metadata": {},
     "output_type": "execute_result"
    }
   ],
   "execution_count": 36
  }
 ],
 "metadata": {
  "kernelspec": {
   "display_name": "Python 3 (ipykernel)",
   "language": "python",
   "name": "python3"
  },
  "language_info": {
   "codemirror_mode": {
    "name": "ipython",
    "version": 3
   },
   "file_extension": ".py",
   "mimetype": "text/x-python",
   "name": "python",
   "nbconvert_exporter": "python",
   "pygments_lexer": "ipython3",
   "version": "3.11.9"
  }
 },
 "nbformat": 4,
 "nbformat_minor": 5
}
