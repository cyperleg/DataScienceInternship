{
 "cells": [
  {
   "cell_type": "code",
   "id": "initial_id",
   "metadata": {
    "ExecuteTime": {
     "end_time": "2024-10-12T12:47:54.801528Z",
     "start_time": "2024-10-12T12:47:54.795427Z"
    }
   },
   "source": [
    "import pandas as pd\n",
    "import ast"
   ],
   "outputs": [],
   "execution_count": 49
  },
  {
   "cell_type": "code",
   "id": "35aead0da5fe224",
   "metadata": {
    "ExecuteTime": {
     "end_time": "2024-10-12T12:57:14.054855Z",
     "start_time": "2024-10-12T12:57:14.045446Z"
    }
   },
   "source": "df = pd.read_csv(\"dataset/mountain_dataset_with_markup.csv\")",
   "outputs": [],
   "execution_count": 63
  },
  {
   "metadata": {},
   "cell_type": "markdown",
   "source": "## Convert markers from str to list ",
   "id": "dab385fa9211948d"
  },
  {
   "metadata": {
    "ExecuteTime": {
     "end_time": "2024-10-12T12:57:15.277109Z",
     "start_time": "2024-10-12T12:57:15.186189Z"
    }
   },
   "cell_type": "code",
   "source": "df['marker'] = df['marker'].apply(ast.literal_eval)",
   "id": "ac66eccd3297645b",
   "outputs": [],
   "execution_count": 64
  },
  {
   "metadata": {},
   "cell_type": "markdown",
   "source": "## Redefine table to contain index of word, not the index of letter ",
   "id": "51ca35f9c5b2223"
  },
  {
   "metadata": {},
   "cell_type": "markdown",
   "source": "#### Artifacts in dataset with name Patagonian Andes (cause this dataset create GPT)",
   "id": "5f4a8298089888fb"
  },
  {
   "metadata": {
    "ExecuteTime": {
     "end_time": "2024-10-12T12:49:59.798053Z",
     "start_time": "2024-10-12T12:49:59.780511Z"
    }
   },
   "cell_type": "code",
   "source": "df[df['marker'].apply(len) > 1]",
   "id": "70b700bec2385de8",
   "outputs": [
    {
     "data": {
      "text/plain": [
       "                                                   text                marker\n",
       "128   I climbed Mount Eiger in the Swiss Alps, a cha...  [(10, 21), (35, 39)]\n",
       "480   Mount St. Helens is an active volcano in the C...   [(45, 58), (0, 16)]\n",
       "531   The Patagonian Andes in Argentina and Chile of...   [(15, 20), (4, 20)]\n",
       "698   Mount Cook is a prominent feature of the South...   [(0, 10), (50, 54)]\n",
       "975   I explored the Patagonian Andes in Argentina, ...  [(26, 31), (15, 31)]\n",
       "1292  I trekked through the Patagonian Andes in Arge...  [(33, 38), (22, 38)]\n",
       "1335  Mount Cook is the highest peak in New Zealand ...   [(0, 10), (71, 75)]\n",
       "1428  Mount Cook in New Zealand is a prominent featu...   [(0, 10), (65, 69)]\n",
       "1447   I trekked through the Patagonian Andes in Chile.  [(33, 38), (22, 38)]"
      ],
      "text/html": [
       "<div>\n",
       "<style scoped>\n",
       "    .dataframe tbody tr th:only-of-type {\n",
       "        vertical-align: middle;\n",
       "    }\n",
       "\n",
       "    .dataframe tbody tr th {\n",
       "        vertical-align: top;\n",
       "    }\n",
       "\n",
       "    .dataframe thead th {\n",
       "        text-align: right;\n",
       "    }\n",
       "</style>\n",
       "<table border=\"1\" class=\"dataframe\">\n",
       "  <thead>\n",
       "    <tr style=\"text-align: right;\">\n",
       "      <th></th>\n",
       "      <th>text</th>\n",
       "      <th>marker</th>\n",
       "    </tr>\n",
       "  </thead>\n",
       "  <tbody>\n",
       "    <tr>\n",
       "      <th>128</th>\n",
       "      <td>I climbed Mount Eiger in the Swiss Alps, a cha...</td>\n",
       "      <td>[(10, 21), (35, 39)]</td>\n",
       "    </tr>\n",
       "    <tr>\n",
       "      <th>480</th>\n",
       "      <td>Mount St. Helens is an active volcano in the C...</td>\n",
       "      <td>[(45, 58), (0, 16)]</td>\n",
       "    </tr>\n",
       "    <tr>\n",
       "      <th>531</th>\n",
       "      <td>The Patagonian Andes in Argentina and Chile of...</td>\n",
       "      <td>[(15, 20), (4, 20)]</td>\n",
       "    </tr>\n",
       "    <tr>\n",
       "      <th>698</th>\n",
       "      <td>Mount Cook is a prominent feature of the South...</td>\n",
       "      <td>[(0, 10), (50, 54)]</td>\n",
       "    </tr>\n",
       "    <tr>\n",
       "      <th>975</th>\n",
       "      <td>I explored the Patagonian Andes in Argentina, ...</td>\n",
       "      <td>[(26, 31), (15, 31)]</td>\n",
       "    </tr>\n",
       "    <tr>\n",
       "      <th>1292</th>\n",
       "      <td>I trekked through the Patagonian Andes in Arge...</td>\n",
       "      <td>[(33, 38), (22, 38)]</td>\n",
       "    </tr>\n",
       "    <tr>\n",
       "      <th>1335</th>\n",
       "      <td>Mount Cook is the highest peak in New Zealand ...</td>\n",
       "      <td>[(0, 10), (71, 75)]</td>\n",
       "    </tr>\n",
       "    <tr>\n",
       "      <th>1428</th>\n",
       "      <td>Mount Cook in New Zealand is a prominent featu...</td>\n",
       "      <td>[(0, 10), (65, 69)]</td>\n",
       "    </tr>\n",
       "    <tr>\n",
       "      <th>1447</th>\n",
       "      <td>I trekked through the Patagonian Andes in Chile.</td>\n",
       "      <td>[(33, 38), (22, 38)]</td>\n",
       "    </tr>\n",
       "  </tbody>\n",
       "</table>\n",
       "</div>"
      ]
     },
     "execution_count": 55,
     "metadata": {},
     "output_type": "execute_result"
    }
   ],
   "execution_count": 55
  },
  {
   "metadata": {},
   "cell_type": "markdown",
   "source": "### Apply function",
   "id": "b122d428428434b9"
  },
  {
   "metadata": {
    "ExecuteTime": {
     "end_time": "2024-10-12T13:22:26.532054Z",
     "start_time": "2024-10-12T13:22:26.514511Z"
    }
   },
   "cell_type": "code",
   "source": [
    "def markup_generator(markup: tuple):\n",
    "    for value in markup:\n",
    "        yield value\n",
    "\n",
    "def sentence_markup(row):\n",
    "    text = row['text']\n",
    "    markup = row['marker']\n",
    "    words = text.split()\n",
    "    # base res\n",
    "    res = ['O'] * len(words)\n",
    "    \n",
    "    if markup:\n",
    "        markups = markup_generator(markup)\n",
    "        temp = next(markups)\n",
    "        stop_index = 0\n",
    "        \n",
    "        for i, d in enumerate(words):\n",
    "            start_index = text.find(d, stop_index)\n",
    "            stop_index += len(d) + 1\n",
    "            # print(start_index, d, stop_index)\n",
    "            \n",
    "            # check to pick next item\n",
    "            if start_index > temp[1]:\n",
    "                try:\n",
    "                    temp = next(markups)\n",
    "                except:\n",
    "                    break\n",
    "            \n",
    "            # change value\n",
    "            if temp[0] <= start_index < temp[1]:\n",
    "                if i == 0:\n",
    "                    res[i] = \"B-LOC\"\n",
    "                else:\n",
    "                    if res[i - 1] == 'O':\n",
    "                        res[i] = \"B-LOC\"\n",
    "                    else:\n",
    "                        res[i] = \"I-LOC\"\n",
    "    return res\n"
   ],
   "id": "99e008c4-c177-4d22-8a7d-d9f709156bf8",
   "outputs": [],
   "execution_count": 99
  },
  {
   "metadata": {},
   "cell_type": "markdown",
   "source": "### Test",
   "id": "2d674d061a74c3"
  },
  {
   "metadata": {
    "ExecuteTime": {
     "end_time": "2024-10-12T13:21:38.279832Z",
     "start_time": "2024-10-12T13:21:38.273313Z"
    }
   },
   "cell_type": "code",
   "source": "sentence_markup(df.iloc[30])",
   "id": "5f0622d09e7ab040",
   "outputs": [
    {
     "name": "stdout",
     "output_type": "stream",
     "text": [
      "0 The 4\n",
      "4 Blue 9\n",
      "9 Ridge 15\n",
      "15 Mountains 25\n",
      "25 in 28\n"
     ]
    },
    {
     "data": {
      "text/plain": [
       "['O', 'B-LOC', 'I-LOC', 'I-LOC', 'O', 'O', 'O', 'O', 'O', 'O', 'O', 'O']"
      ]
     },
     "execution_count": 97,
     "metadata": {},
     "output_type": "execute_result"
    }
   ],
   "execution_count": 97
  },
  {
   "metadata": {},
   "cell_type": "markdown",
   "source": "### Applying",
   "id": "22a1a68f469b3f41"
  },
  {
   "metadata": {
    "ExecuteTime": {
     "end_time": "2024-10-12T13:22:28.357785Z",
     "start_time": "2024-10-12T13:22:28.333469Z"
    }
   },
   "cell_type": "code",
   "source": "df['markup'] = df.apply(sentence_markup, axis=1)",
   "id": "d981fe3f86d61a20",
   "outputs": [],
   "execution_count": 100
  },
  {
   "metadata": {
    "ExecuteTime": {
     "end_time": "2024-10-12T13:22:30.291246Z",
     "start_time": "2024-10-12T13:22:30.268539Z"
    }
   },
   "cell_type": "code",
   "source": "df",
   "id": "87bc60bb053cd3f6",
   "outputs": [
    {
     "data": {
      "text/plain": [
       "                                                   text      marker  \\\n",
       "0     A visit to a science museum for hands-on learn...          []   \n",
       "1     Voice surface coach set democratic time year. ...          []   \n",
       "2     Parent according maybe activity activity finis...          []   \n",
       "3     A visit to a sculpture garden with intriguing ...          []   \n",
       "4     The Julian Alps in Slovenia offer pristine lak...  [(11, 15)]   \n",
       "...                                                 ...         ...   \n",
       "1579  They never audience meet. Appear region allow ...          []   \n",
       "1580  Witnessing the mesmerizing Northern Lights dan...  [(75, 97)]   \n",
       "1581  Consumer join stage. Best likely center they p...          []   \n",
       "1582  Hospital real school cover hotel over. Any tra...          []   \n",
       "1583  A brilliant pass from the midfielder sets up a...          []   \n",
       "\n",
       "                                                 markup  \n",
       "0                           [O, O, O, O, O, O, O, O, O]  \n",
       "1     [O, O, O, O, O, O, O, O, O, O, O, O, O, O, O, ...  \n",
       "2      [O, O, O, O, O, O, O, O, O, O, O, O, O, O, O, O]  \n",
       "3                           [O, O, O, O, O, O, O, O, O]  \n",
       "4                 [O, O, B-LOC, O, O, O, O, O, O, O, O]  \n",
       "...                                                 ...  \n",
       "1579                  [O, O, O, O, O, O, O, O, O, O, O]  \n",
       "1580  [O, O, O, O, O, O, O, O, O, O, O, B-LOC, I-LOC...  \n",
       "1581  [O, O, O, O, O, O, O, O, O, O, O, O, O, O, O, ...  \n",
       "1582                  [O, O, O, O, O, O, O, O, O, O, O]  \n",
       "1583         [O, O, O, O, O, O, O, O, O, O, O, O, O, O]  \n",
       "\n",
       "[1584 rows x 3 columns]"
      ],
      "text/html": [
       "<div>\n",
       "<style scoped>\n",
       "    .dataframe tbody tr th:only-of-type {\n",
       "        vertical-align: middle;\n",
       "    }\n",
       "\n",
       "    .dataframe tbody tr th {\n",
       "        vertical-align: top;\n",
       "    }\n",
       "\n",
       "    .dataframe thead th {\n",
       "        text-align: right;\n",
       "    }\n",
       "</style>\n",
       "<table border=\"1\" class=\"dataframe\">\n",
       "  <thead>\n",
       "    <tr style=\"text-align: right;\">\n",
       "      <th></th>\n",
       "      <th>text</th>\n",
       "      <th>marker</th>\n",
       "      <th>markup</th>\n",
       "    </tr>\n",
       "  </thead>\n",
       "  <tbody>\n",
       "    <tr>\n",
       "      <th>0</th>\n",
       "      <td>A visit to a science museum for hands-on learn...</td>\n",
       "      <td>[]</td>\n",
       "      <td>[O, O, O, O, O, O, O, O, O]</td>\n",
       "    </tr>\n",
       "    <tr>\n",
       "      <th>1</th>\n",
       "      <td>Voice surface coach set democratic time year. ...</td>\n",
       "      <td>[]</td>\n",
       "      <td>[O, O, O, O, O, O, O, O, O, O, O, O, O, O, O, ...</td>\n",
       "    </tr>\n",
       "    <tr>\n",
       "      <th>2</th>\n",
       "      <td>Parent according maybe activity activity finis...</td>\n",
       "      <td>[]</td>\n",
       "      <td>[O, O, O, O, O, O, O, O, O, O, O, O, O, O, O, O]</td>\n",
       "    </tr>\n",
       "    <tr>\n",
       "      <th>3</th>\n",
       "      <td>A visit to a sculpture garden with intriguing ...</td>\n",
       "      <td>[]</td>\n",
       "      <td>[O, O, O, O, O, O, O, O, O]</td>\n",
       "    </tr>\n",
       "    <tr>\n",
       "      <th>4</th>\n",
       "      <td>The Julian Alps in Slovenia offer pristine lak...</td>\n",
       "      <td>[(11, 15)]</td>\n",
       "      <td>[O, O, B-LOC, O, O, O, O, O, O, O, O]</td>\n",
       "    </tr>\n",
       "    <tr>\n",
       "      <th>...</th>\n",
       "      <td>...</td>\n",
       "      <td>...</td>\n",
       "      <td>...</td>\n",
       "    </tr>\n",
       "    <tr>\n",
       "      <th>1579</th>\n",
       "      <td>They never audience meet. Appear region allow ...</td>\n",
       "      <td>[]</td>\n",
       "      <td>[O, O, O, O, O, O, O, O, O, O, O]</td>\n",
       "    </tr>\n",
       "    <tr>\n",
       "      <th>1580</th>\n",
       "      <td>Witnessing the mesmerizing Northern Lights dan...</td>\n",
       "      <td>[(75, 97)]</td>\n",
       "      <td>[O, O, O, O, O, O, O, O, O, O, O, B-LOC, I-LOC...</td>\n",
       "    </tr>\n",
       "    <tr>\n",
       "      <th>1581</th>\n",
       "      <td>Consumer join stage. Best likely center they p...</td>\n",
       "      <td>[]</td>\n",
       "      <td>[O, O, O, O, O, O, O, O, O, O, O, O, O, O, O, ...</td>\n",
       "    </tr>\n",
       "    <tr>\n",
       "      <th>1582</th>\n",
       "      <td>Hospital real school cover hotel over. Any tra...</td>\n",
       "      <td>[]</td>\n",
       "      <td>[O, O, O, O, O, O, O, O, O, O, O]</td>\n",
       "    </tr>\n",
       "    <tr>\n",
       "      <th>1583</th>\n",
       "      <td>A brilliant pass from the midfielder sets up a...</td>\n",
       "      <td>[]</td>\n",
       "      <td>[O, O, O, O, O, O, O, O, O, O, O, O, O, O]</td>\n",
       "    </tr>\n",
       "  </tbody>\n",
       "</table>\n",
       "<p>1584 rows × 3 columns</p>\n",
       "</div>"
      ]
     },
     "execution_count": 101,
     "metadata": {},
     "output_type": "execute_result"
    }
   ],
   "execution_count": 101
  },
  {
   "metadata": {},
   "cell_type": "markdown",
   "source": "### Dropping unnecessary column",
   "id": "eea309dc8a59893d"
  },
  {
   "metadata": {
    "ExecuteTime": {
     "end_time": "2024-10-12T13:26:43.683327Z",
     "start_time": "2024-10-12T13:26:43.665189Z"
    }
   },
   "cell_type": "code",
   "source": "df = df.drop(columns='marker')",
   "id": "51de060ea0fe0417",
   "outputs": [],
   "execution_count": 102
  },
  {
   "metadata": {
    "ExecuteTime": {
     "end_time": "2024-10-12T13:26:45.560532Z",
     "start_time": "2024-10-12T13:26:45.538211Z"
    }
   },
   "cell_type": "code",
   "source": "df",
   "id": "548132fde21c424b",
   "outputs": [
    {
     "data": {
      "text/plain": [
       "                                                   text  \\\n",
       "0     A visit to a science museum for hands-on learn...   \n",
       "1     Voice surface coach set democratic time year. ...   \n",
       "2     Parent according maybe activity activity finis...   \n",
       "3     A visit to a sculpture garden with intriguing ...   \n",
       "4     The Julian Alps in Slovenia offer pristine lak...   \n",
       "...                                                 ...   \n",
       "1579  They never audience meet. Appear region allow ...   \n",
       "1580  Witnessing the mesmerizing Northern Lights dan...   \n",
       "1581  Consumer join stage. Best likely center they p...   \n",
       "1582  Hospital real school cover hotel over. Any tra...   \n",
       "1583  A brilliant pass from the midfielder sets up a...   \n",
       "\n",
       "                                                 markup  \n",
       "0                           [O, O, O, O, O, O, O, O, O]  \n",
       "1     [O, O, O, O, O, O, O, O, O, O, O, O, O, O, O, ...  \n",
       "2      [O, O, O, O, O, O, O, O, O, O, O, O, O, O, O, O]  \n",
       "3                           [O, O, O, O, O, O, O, O, O]  \n",
       "4                 [O, O, B-LOC, O, O, O, O, O, O, O, O]  \n",
       "...                                                 ...  \n",
       "1579                  [O, O, O, O, O, O, O, O, O, O, O]  \n",
       "1580  [O, O, O, O, O, O, O, O, O, O, O, B-LOC, I-LOC...  \n",
       "1581  [O, O, O, O, O, O, O, O, O, O, O, O, O, O, O, ...  \n",
       "1582                  [O, O, O, O, O, O, O, O, O, O, O]  \n",
       "1583         [O, O, O, O, O, O, O, O, O, O, O, O, O, O]  \n",
       "\n",
       "[1584 rows x 2 columns]"
      ],
      "text/html": [
       "<div>\n",
       "<style scoped>\n",
       "    .dataframe tbody tr th:only-of-type {\n",
       "        vertical-align: middle;\n",
       "    }\n",
       "\n",
       "    .dataframe tbody tr th {\n",
       "        vertical-align: top;\n",
       "    }\n",
       "\n",
       "    .dataframe thead th {\n",
       "        text-align: right;\n",
       "    }\n",
       "</style>\n",
       "<table border=\"1\" class=\"dataframe\">\n",
       "  <thead>\n",
       "    <tr style=\"text-align: right;\">\n",
       "      <th></th>\n",
       "      <th>text</th>\n",
       "      <th>markup</th>\n",
       "    </tr>\n",
       "  </thead>\n",
       "  <tbody>\n",
       "    <tr>\n",
       "      <th>0</th>\n",
       "      <td>A visit to a science museum for hands-on learn...</td>\n",
       "      <td>[O, O, O, O, O, O, O, O, O]</td>\n",
       "    </tr>\n",
       "    <tr>\n",
       "      <th>1</th>\n",
       "      <td>Voice surface coach set democratic time year. ...</td>\n",
       "      <td>[O, O, O, O, O, O, O, O, O, O, O, O, O, O, O, ...</td>\n",
       "    </tr>\n",
       "    <tr>\n",
       "      <th>2</th>\n",
       "      <td>Parent according maybe activity activity finis...</td>\n",
       "      <td>[O, O, O, O, O, O, O, O, O, O, O, O, O, O, O, O]</td>\n",
       "    </tr>\n",
       "    <tr>\n",
       "      <th>3</th>\n",
       "      <td>A visit to a sculpture garden with intriguing ...</td>\n",
       "      <td>[O, O, O, O, O, O, O, O, O]</td>\n",
       "    </tr>\n",
       "    <tr>\n",
       "      <th>4</th>\n",
       "      <td>The Julian Alps in Slovenia offer pristine lak...</td>\n",
       "      <td>[O, O, B-LOC, O, O, O, O, O, O, O, O]</td>\n",
       "    </tr>\n",
       "    <tr>\n",
       "      <th>...</th>\n",
       "      <td>...</td>\n",
       "      <td>...</td>\n",
       "    </tr>\n",
       "    <tr>\n",
       "      <th>1579</th>\n",
       "      <td>They never audience meet. Appear region allow ...</td>\n",
       "      <td>[O, O, O, O, O, O, O, O, O, O, O]</td>\n",
       "    </tr>\n",
       "    <tr>\n",
       "      <th>1580</th>\n",
       "      <td>Witnessing the mesmerizing Northern Lights dan...</td>\n",
       "      <td>[O, O, O, O, O, O, O, O, O, O, O, B-LOC, I-LOC...</td>\n",
       "    </tr>\n",
       "    <tr>\n",
       "      <th>1581</th>\n",
       "      <td>Consumer join stage. Best likely center they p...</td>\n",
       "      <td>[O, O, O, O, O, O, O, O, O, O, O, O, O, O, O, ...</td>\n",
       "    </tr>\n",
       "    <tr>\n",
       "      <th>1582</th>\n",
       "      <td>Hospital real school cover hotel over. Any tra...</td>\n",
       "      <td>[O, O, O, O, O, O, O, O, O, O, O]</td>\n",
       "    </tr>\n",
       "    <tr>\n",
       "      <th>1583</th>\n",
       "      <td>A brilliant pass from the midfielder sets up a...</td>\n",
       "      <td>[O, O, O, O, O, O, O, O, O, O, O, O, O, O]</td>\n",
       "    </tr>\n",
       "  </tbody>\n",
       "</table>\n",
       "<p>1584 rows × 2 columns</p>\n",
       "</div>"
      ]
     },
     "execution_count": 103,
     "metadata": {},
     "output_type": "execute_result"
    }
   ],
   "execution_count": 103
  },
  {
   "metadata": {},
   "cell_type": "markdown",
   "source": "### Export with data type saving",
   "id": "637f324df84af5cb"
  },
  {
   "metadata": {
    "ExecuteTime": {
     "end_time": "2024-10-12T13:28:02.757088Z",
     "start_time": "2024-10-12T13:28:02.750055Z"
    }
   },
   "cell_type": "code",
   "source": "df.to_pickle('dataset/ready_dataset.pkl')",
   "id": "cb82522725147b8b",
   "outputs": [],
   "execution_count": 105
  }
 ],
 "metadata": {
  "kernelspec": {
   "display_name": "Python 3 (ipykernel)",
   "language": "python",
   "name": "python3"
  },
  "language_info": {
   "codemirror_mode": {
    "name": "ipython",
    "version": 3
   },
   "file_extension": ".py",
   "mimetype": "text/x-python",
   "name": "python",
   "nbconvert_exporter": "python",
   "pygments_lexer": "ipython3",
   "version": "3.11.9"
  }
 },
 "nbformat": 4,
 "nbformat_minor": 5
}
