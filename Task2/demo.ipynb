{
 "cells": [
  {
   "cell_type": "code",
   "id": "initial_id",
   "metadata": {
    "collapsed": true,
    "ExecuteTime": {
     "end_time": "2024-10-17T07:18:05.604601Z",
     "start_time": "2024-10-17T07:18:01.382863Z"
    }
   },
   "source": "from model import ImageMatching",
   "outputs": [],
   "execution_count": 1
  },
  {
   "metadata": {},
   "cell_type": "markdown",
   "source": "Path to images",
   "id": "42d7f5cc036c354f"
  },
  {
   "metadata": {
    "ExecuteTime": {
     "end_time": "2024-10-17T07:18:06.750053Z",
     "start_time": "2024-10-17T07:18:06.747130Z"
    }
   },
   "cell_type": "code",
   "source": [
    "img1 = \"dataset/test/flowers-473.jpg\"\n",
    "img2 = \"dataset/test/00000.jpg\""
   ],
   "id": "55203d512656567e",
   "outputs": [],
   "execution_count": 2
  },
  {
   "metadata": {
    "ExecuteTime": {
     "end_time": "2024-10-17T07:18:07.960786Z",
     "start_time": "2024-10-17T07:18:07.949184Z"
    }
   },
   "cell_type": "code",
   "source": "a = ImageMatching(img1, img2)",
   "id": "24f03207a1a16037",
   "outputs": [],
   "execution_count": 3
  },
  {
   "metadata": {
    "ExecuteTime": {
     "end_time": "2024-10-17T07:18:13.466663Z",
     "start_time": "2024-10-17T07:18:09.075235Z"
    }
   },
   "cell_type": "code",
   "source": "a.compare_image()",
   "id": "61fd60bd47cc561",
   "outputs": [],
   "execution_count": 4
  }
 ],
 "metadata": {
  "kernelspec": {
   "display_name": "Python 3",
   "language": "python",
   "name": "python3"
  },
  "language_info": {
   "codemirror_mode": {
    "name": "ipython",
    "version": 2
   },
   "file_extension": ".py",
   "mimetype": "text/x-python",
   "name": "python",
   "nbconvert_exporter": "python",
   "pygments_lexer": "ipython2",
   "version": "2.7.6"
  }
 },
 "nbformat": 4,
 "nbformat_minor": 5
}
