{
 "cells": [
  {
   "cell_type": "code",
   "id": "initial_id",
   "metadata": {
    "collapsed": true,
    "ExecuteTime": {
     "end_time": "2024-10-14T15:49:36.526342Z",
     "start_time": "2024-10-14T15:49:32.033166Z"
    }
   },
   "source": "from transformers import pipeline, AutoModelForTokenClassification, AutoTokenizer",
   "outputs": [],
   "execution_count": 1
  },
  {
   "metadata": {},
   "cell_type": "markdown",
   "source": "#### Import model",
   "id": "8c6f604909709bae"
  },
  {
   "metadata": {
    "ExecuteTime": {
     "end_time": "2024-10-14T15:49:38.969797Z",
     "start_time": "2024-10-14T15:49:38.825357Z"
    }
   },
   "cell_type": "code",
   "source": [
    "model = AutoModelForTokenClassification.from_pretrained(\"model/checkpoint-46\")\n",
    "tokenizer = AutoTokenizer.from_pretrained(\"model/checkpoint-46\")"
   ],
   "id": "6b96e1eb0b033b89",
   "outputs": [],
   "execution_count": 2
  },
  {
   "metadata": {},
   "cell_type": "markdown",
   "source": "#### Creating pipeline",
   "id": "f6e18a20bdf63f73"
  },
  {
   "metadata": {
    "ExecuteTime": {
     "end_time": "2024-10-14T15:49:40.958760Z",
     "start_time": "2024-10-14T15:49:40.951820Z"
    }
   },
   "cell_type": "code",
   "source": "ner_pipeline = pipeline(\"ner\", model=model, tokenizer=tokenizer)",
   "id": "219ab577bd701859",
   "outputs": [],
   "execution_count": 3
  },
  {
   "metadata": {},
   "cell_type": "markdown",
   "source": "#### Usage",
   "id": "faba8968469bf24a"
  },
  {
   "metadata": {
    "ExecuteTime": {
     "end_time": "2024-10-14T15:49:53.673031Z",
     "start_time": "2024-10-14T15:49:42.514042Z"
    }
   },
   "cell_type": "code",
   "source": "ner_pipeline(input())",
   "id": "360f3b2847b2ae9b",
   "outputs": [
    {
     "data": {
      "text/plain": [
       "[{'entity': 'B-LOC',\n",
       "  'score': np.float32(0.7143281),\n",
       "  'index': 6,\n",
       "  'word': 'Alps',\n",
       "  'start': 18,\n",
       "  'end': 22}]"
      ]
     },
     "execution_count": 4,
     "metadata": {},
     "output_type": "execute_result"
    }
   ],
   "execution_count": 4
  }
 ],
 "metadata": {
  "kernelspec": {
   "display_name": "Python 3",
   "language": "python",
   "name": "python3"
  },
  "language_info": {
   "codemirror_mode": {
    "name": "ipython",
    "version": 2
   },
   "file_extension": ".py",
   "mimetype": "text/x-python",
   "name": "python",
   "nbconvert_exporter": "python",
   "pygments_lexer": "ipython2",
   "version": "2.7.6"
  }
 },
 "nbformat": 4,
 "nbformat_minor": 5
}
